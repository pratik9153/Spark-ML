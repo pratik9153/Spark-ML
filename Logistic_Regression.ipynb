{
  "nbformat": 4,
  "nbformat_minor": 0,
  "metadata": {
    "colab": {
      "provenance": [],
      "authorship_tag": "ABX9TyPFPIZVgD6VNPCXHR4UAR3g",
      "include_colab_link": true
    },
    "kernelspec": {
      "name": "python3",
      "display_name": "Python 3"
    },
    "language_info": {
      "name": "python"
    }
  },
  "cells": [
    {
      "cell_type": "markdown",
      "metadata": {
        "id": "view-in-github",
        "colab_type": "text"
      },
      "source": [
        "<a href=\"https://colab.research.google.com/github/pratik9153/Spark-ML/blob/main/Logistic_Regression.ipynb\" target=\"_parent\"><img src=\"https://colab.research.google.com/assets/colab-badge.svg\" alt=\"Open In Colab\"/></a>"
      ]
    },
    {
      "cell_type": "code",
      "source": [
        "import pyspark"
      ],
      "metadata": {
        "id": "lQuNQ-qMdPTE"
      },
      "execution_count": 3,
      "outputs": []
    },
    {
      "cell_type": "code",
      "source": [
        "from pyspark.sql import SparkSession"
      ],
      "metadata": {
        "id": "O7YI3bzHi_ry"
      },
      "execution_count": 7,
      "outputs": []
    },
    {
      "cell_type": "code",
      "source": [
        "spark = SparkSession.builder.appName('Adult Income').getOrCreate()"
      ],
      "metadata": {
        "id": "WztnXS-3kp8r"
      },
      "execution_count": 8,
      "outputs": []
    },
    {
      "cell_type": "code",
      "source": [
        "df = spark.read.csv(\"Adult.data.csv\")"
      ],
      "metadata": {
        "id": "cgnCTWswkw6F"
      },
      "execution_count": 9,
      "outputs": []
    },
    {
      "cell_type": "code",
      "source": [
        "df.show()"
      ],
      "metadata": {
        "colab": {
          "base_uri": "https://localhost:8080/"
        },
        "id": "CrVVnyG2l0xD",
        "outputId": "1f4fecf3-e1aa-4035-ca4d-bd1686685b42"
      },
      "execution_count": 10,
      "outputs": [
        {
          "output_type": "stream",
          "name": "stdout",
          "text": [
            "+---+----------------+------+------------+-------------+--------------+-----------------+--------------+-----+------+------------+------------+--------------+--------------+------+\n",
            "|_c0|             _c1|   _c2|         _c3|          _c4|           _c5|              _c6|           _c7|  _c8|   _c9|        _c10|        _c11|          _c12|          _c13|  _c14|\n",
            "+---+----------------+------+------------+-------------+--------------+-----------------+--------------+-----+------+------------+------------+--------------+--------------+------+\n",
            "|age|       workclass|fnlwgt|   education|education.num|marital.status|       occupation|  relationship| race|   sex|capital.gain|capital.loss|hours.per.week|native.country|income|\n",
            "| 90|               ?| 77053|     HS-grad|            9|       Widowed|                ?| Not-in-family|White|Female|           0|        4356|            40| United-States| <=50K|\n",
            "| 82|         Private|132870|     HS-grad|            9|       Widowed|  Exec-managerial| Not-in-family|White|Female|           0|        4356|            18| United-States| <=50K|\n",
            "| 66|               ?|186061|Some-college|           10|       Widowed|                ?|     Unmarried|Black|Female|           0|        4356|            40| United-States| <=50K|\n",
            "| 54|         Private|140359|     7th-8th|            4|      Divorced|Machine-op-inspct|     Unmarried|White|Female|           0|        3900|            40| United-States| <=50K|\n",
            "| 41|         Private|264663|Some-college|           10|     Separated|   Prof-specialty|     Own-child|White|Female|           0|        3900|            40| United-States| <=50K|\n",
            "| 34|         Private|216864|     HS-grad|            9|      Divorced|    Other-service|     Unmarried|White|Female|           0|        3770|            45| United-States| <=50K|\n",
            "| 38|         Private|150601|        10th|            6|     Separated|     Adm-clerical|     Unmarried|White|  Male|           0|        3770|            40| United-States| <=50K|\n",
            "| 74|       State-gov| 88638|   Doctorate|           16| Never-married|   Prof-specialty|Other-relative|White|Female|           0|        3683|            20| United-States|  >50K|\n",
            "| 68|     Federal-gov|422013|     HS-grad|            9|      Divorced|   Prof-specialty| Not-in-family|White|Female|           0|        3683|            40| United-States| <=50K|\n",
            "| 41|         Private| 70037|Some-college|           10| Never-married|     Craft-repair|     Unmarried|White|  Male|           0|        3004|            60|             ?|  >50K|\n",
            "| 45|         Private|172274|   Doctorate|           16|      Divorced|   Prof-specialty|     Unmarried|Black|Female|           0|        3004|            35| United-States|  >50K|\n",
            "| 38|Self-emp-not-inc|164526| Prof-school|           15| Never-married|   Prof-specialty| Not-in-family|White|  Male|           0|        2824|            45| United-States|  >50K|\n",
            "| 52|         Private|129177|   Bachelors|           13|       Widowed|    Other-service| Not-in-family|White|Female|           0|        2824|            20| United-States|  >50K|\n",
            "| 32|         Private|136204|     Masters|           14|     Separated|  Exec-managerial| Not-in-family|White|  Male|           0|        2824|            55| United-States|  >50K|\n",
            "| 51|               ?|172175|   Doctorate|           16| Never-married|                ?| Not-in-family|White|  Male|           0|        2824|            40| United-States|  >50K|\n",
            "| 46|         Private| 45363| Prof-school|           15|      Divorced|   Prof-specialty| Not-in-family|White|  Male|           0|        2824|            40| United-States|  >50K|\n",
            "| 45|         Private|172822|        11th|            7|      Divorced| Transport-moving| Not-in-family|White|  Male|           0|        2824|            76| United-States|  >50K|\n",
            "| 57|         Private|317847|     Masters|           14|      Divorced|  Exec-managerial| Not-in-family|White|  Male|           0|        2824|            50| United-States|  >50K|\n",
            "| 22|         Private|119592|  Assoc-acdm|           12| Never-married|Handlers-cleaners| Not-in-family|Black|  Male|           0|        2824|            40|             ?|  >50K|\n",
            "+---+----------------+------+------------+-------------+--------------+-----------------+--------------+-----+------+------------+------------+--------------+--------------+------+\n",
            "only showing top 20 rows\n",
            "\n"
          ]
        }
      ]
    },
    {
      "cell_type": "code",
      "source": [
        "labels = ['age', 'workclass', 'fnlwgt', 'education', 'numbers', 'marital', 'occupation', 'relation', 'race', 'gender', 'gain', 'loss', 'hourlypay', 'country', 'income']"
      ],
      "metadata": {
        "id": "F9DNHDe4l9My"
      },
      "execution_count": 11,
      "outputs": []
    },
    {
      "cell_type": "code",
      "source": [
        "df = df.toDF(*labels)"
      ],
      "metadata": {
        "id": "o9v9HEcjmERL"
      },
      "execution_count": 13,
      "outputs": []
    },
    {
      "cell_type": "code",
      "source": [
        "df.show(5)"
      ],
      "metadata": {
        "colab": {
          "base_uri": "https://localhost:8080/"
        },
        "id": "28AvjJCnmGoV",
        "outputId": "4497ed77-cfba-49aa-954d-da9320557ee7"
      },
      "execution_count": 14,
      "outputs": [
        {
          "output_type": "stream",
          "name": "stdout",
          "text": [
            "+---+---------+------+------------+-------------+--------------+-----------------+-------------+-----+------+------------+------------+--------------+--------------+------+\n",
            "|age|workclass|fnlwgt|   education|      numbers|       marital|       occupation|     relation| race|gender|        gain|        loss|     hourlypay|       country|income|\n",
            "+---+---------+------+------------+-------------+--------------+-----------------+-------------+-----+------+------------+------------+--------------+--------------+------+\n",
            "|age|workclass|fnlwgt|   education|education.num|marital.status|       occupation| relationship| race|   sex|capital.gain|capital.loss|hours.per.week|native.country|income|\n",
            "| 90|        ?| 77053|     HS-grad|            9|       Widowed|                ?|Not-in-family|White|Female|           0|        4356|            40| United-States| <=50K|\n",
            "| 82|  Private|132870|     HS-grad|            9|       Widowed|  Exec-managerial|Not-in-family|White|Female|           0|        4356|            18| United-States| <=50K|\n",
            "| 66|        ?|186061|Some-college|           10|       Widowed|                ?|    Unmarried|Black|Female|           0|        4356|            40| United-States| <=50K|\n",
            "| 54|  Private|140359|     7th-8th|            4|      Divorced|Machine-op-inspct|    Unmarried|White|Female|           0|        3900|            40| United-States| <=50K|\n",
            "+---+---------+------+------------+-------------+--------------+-----------------+-------------+-----+------+------------+------------+--------------+--------------+------+\n",
            "only showing top 5 rows\n",
            "\n"
          ]
        }
      ]
    },
    {
      "cell_type": "code",
      "source": [
        "df.printSchema()"
      ],
      "metadata": {
        "colab": {
          "base_uri": "https://localhost:8080/"
        },
        "id": "jkqNOnS-mXq_",
        "outputId": "89615473-3085-437b-d613-b29cd7ab3a1b"
      },
      "execution_count": 15,
      "outputs": [
        {
          "output_type": "stream",
          "name": "stdout",
          "text": [
            "root\n",
            " |-- age: string (nullable = true)\n",
            " |-- workclass: string (nullable = true)\n",
            " |-- fnlwgt: string (nullable = true)\n",
            " |-- education: string (nullable = true)\n",
            " |-- numbers: string (nullable = true)\n",
            " |-- marital: string (nullable = true)\n",
            " |-- occupation: string (nullable = true)\n",
            " |-- relation: string (nullable = true)\n",
            " |-- race: string (nullable = true)\n",
            " |-- gender: string (nullable = true)\n",
            " |-- gain: string (nullable = true)\n",
            " |-- loss: string (nullable = true)\n",
            " |-- hourlypay: string (nullable = true)\n",
            " |-- country: string (nullable = true)\n",
            " |-- income: string (nullable = true)\n",
            "\n"
          ]
        }
      ]
    },
    {
      "cell_type": "code",
      "source": [
        "from pyspark.sql.functions import col\n",
        "df_1 = df.withColumn('age',col('age').cast('integer'))"
      ],
      "metadata": {
        "id": "kd2gRaNDmrlu"
      },
      "execution_count": 16,
      "outputs": []
    },
    {
      "cell_type": "code",
      "source": [
        "df_1.printSchema()"
      ],
      "metadata": {
        "colab": {
          "base_uri": "https://localhost:8080/"
        },
        "id": "gzhVvr0fnyWa",
        "outputId": "04ca634b-88a7-4c09-a9c9-21338b54dc52"
      },
      "execution_count": 17,
      "outputs": [
        {
          "output_type": "stream",
          "name": "stdout",
          "text": [
            "root\n",
            " |-- age: integer (nullable = true)\n",
            " |-- workclass: string (nullable = true)\n",
            " |-- fnlwgt: string (nullable = true)\n",
            " |-- education: string (nullable = true)\n",
            " |-- numbers: string (nullable = true)\n",
            " |-- marital: string (nullable = true)\n",
            " |-- occupation: string (nullable = true)\n",
            " |-- relation: string (nullable = true)\n",
            " |-- race: string (nullable = true)\n",
            " |-- gender: string (nullable = true)\n",
            " |-- gain: string (nullable = true)\n",
            " |-- loss: string (nullable = true)\n",
            " |-- hourlypay: string (nullable = true)\n",
            " |-- country: string (nullable = true)\n",
            " |-- income: string (nullable = true)\n",
            "\n"
          ]
        }
      ]
    },
    {
      "cell_type": "code",
      "source": [
        "for i in ['fnlwgt' , 'numbers', 'gain', 'loss', 'hourlypay']:\n",
        "  df_1 = df_1.withColumn(i,col(i).cast('integer'))"
      ],
      "metadata": {
        "id": "eygiAAkmn2MP"
      },
      "execution_count": 20,
      "outputs": []
    },
    {
      "cell_type": "code",
      "source": [
        "from pyspark.sql.functions import *\n",
        "df_1.select([count(when(col(c).isNull(), c )).alias(c) for c in df_1.columns]).show()"
      ],
      "metadata": {
        "colab": {
          "base_uri": "https://localhost:8080/"
        },
        "id": "oMFvSwyroEnu",
        "outputId": "1c572bf1-17ed-40a9-ff22-3a515d0dcc49"
      },
      "execution_count": 26,
      "outputs": [
        {
          "output_type": "stream",
          "name": "stdout",
          "text": [
            "+---+---------+------+---------+-------+-------+----------+--------+----+------+----+----+---------+-------+------+\n",
            "|age|workclass|fnlwgt|education|numbers|marital|occupation|relation|race|gender|gain|loss|hourlypay|country|income|\n",
            "+---+---------+------+---------+-------+-------+----------+--------+----+------+----+----+---------+-------+------+\n",
            "|  1|        0|     1|        0|      1|      0|         0|       1|   1|     1|   2|   2|        2|      1|     1|\n",
            "+---+---------+------+---------+-------+-------+----------+--------+----+------+----+----+---------+-------+------+\n",
            "\n"
          ]
        }
      ]
    },
    {
      "cell_type": "code",
      "source": [
        "df.select('workclass').distinct().show()"
      ],
      "metadata": {
        "colab": {
          "base_uri": "https://localhost:8080/"
        },
        "id": "Okqwwq0-ppZr",
        "outputId": "2186c000-1d72-45f6-fb6b-cb0098a5fd44"
      },
      "execution_count": 27,
      "outputs": [
        {
          "output_type": "stream",
          "name": "stdout",
          "text": [
            "+----------------+\n",
            "|       workclass|\n",
            "+----------------+\n",
            "|Self-emp-not-inc|\n",
            "|       workclass|\n",
            "|       Local-gov|\n",
            "|       State-gov|\n",
            "|         Private|\n",
            "|     Without-pay|\n",
            "|     Federal-gov|\n",
            "|    Never-worked|\n",
            "|               ?|\n",
            "|    Self-emp-inc|\n",
            "+----------------+\n",
            "\n"
          ]
        }
      ]
    },
    {
      "cell_type": "code",
      "source": [
        "df = df_1.replace(\"?\",None)"
      ],
      "metadata": {
        "id": "6sqWm0uiprqT"
      },
      "execution_count": 28,
      "outputs": []
    },
    {
      "cell_type": "code",
      "source": [
        "df.select([count(when(col(c).isNull(), c )).alias(c) for c in df.columns]).show()"
      ],
      "metadata": {
        "colab": {
          "base_uri": "https://localhost:8080/"
        },
        "id": "LIlyU97Aqkhk",
        "outputId": "d9da8cf4-ee60-45ad-e3b7-c9fbc658d99f"
      },
      "execution_count": 29,
      "outputs": [
        {
          "output_type": "stream",
          "name": "stdout",
          "text": [
            "+---+---------+------+---------+-------+-------+----------+--------+----+------+----+----+---------+-------+------+\n",
            "|age|workclass|fnlwgt|education|numbers|marital|occupation|relation|race|gender|gain|loss|hourlypay|country|income|\n",
            "+---+---------+------+---------+-------+-------+----------+--------+----+------+----+----+---------+-------+------+\n",
            "|  1|      533|     1|        0|      1|      0|       534|       1|   1|     1|   2|   2|        2|    187|     1|\n",
            "+---+---------+------+---------+-------+-------+----------+--------+----+------+----+----+---------+-------+------+\n",
            "\n"
          ]
        }
      ]
    },
    {
      "cell_type": "code",
      "source": [
        "df.groupby('country').count().show()"
      ],
      "metadata": {
        "colab": {
          "base_uri": "https://localhost:8080/"
        },
        "id": "7ffBljsoqqc1",
        "outputId": "d58913f0-b485-428f-9b3e-80f2a37a804b"
      },
      "execution_count": 32,
      "outputs": [
        {
          "output_type": "stream",
          "name": "stdout",
          "text": [
            "+------------------+-----+\n",
            "|           country|count|\n",
            "+------------------+-----+\n",
            "|       Philippines|   45|\n",
            "|           Germany|   44|\n",
            "|          Cambodia|    9|\n",
            "|            France|    6|\n",
            "|            Greece|   15|\n",
            "|            Taiwan|   17|\n",
            "|              NULL|  187|\n",
            "|           Ecuador|    6|\n",
            "|         Nicaragua|    9|\n",
            "|              Hong|    2|\n",
            "|              Peru|    4|\n",
            "|             China|   27|\n",
            "|             India|   33|\n",
            "|Holand-Netherlands|    1|\n",
            "|             Italy|   20|\n",
            "|              Cuba|   28|\n",
            "|             South|   22|\n",
            "|              Iran|   17|\n",
            "|           Ireland|    8|\n",
            "|              Laos|    4|\n",
            "+------------------+-----+\n",
            "only showing top 20 rows\n",
            "\n"
          ]
        }
      ]
    },
    {
      "cell_type": "code",
      "source": [
        "df = df.fillna(\" United-States\", subset = ['country'])"
      ],
      "metadata": {
        "id": "UrxPG2bvrHLO"
      },
      "execution_count": 33,
      "outputs": []
    },
    {
      "cell_type": "code",
      "source": [
        "df.groupby(\"occupation\").count().show()"
      ],
      "metadata": {
        "colab": {
          "base_uri": "https://localhost:8080/"
        },
        "id": "r1RIqeZrrYZB",
        "outputId": "badbceee-36b0-4826-ad9b-51cb7f511aec"
      },
      "execution_count": 35,
      "outputs": [
        {
          "output_type": "stream",
          "name": "stdout",
          "text": [
            "+-----------------+-----+\n",
            "|       occupation|count|\n",
            "+-----------------+-----+\n",
            "|            Sales| 1131|\n",
            "|  Exec-managerial| 1435|\n",
            "|   Prof-specialty| 1442|\n",
            "|Handlers-cleaners|  314|\n",
            "|             NULL|  534|\n",
            "|    Prof-specialt|    1|\n",
            "|  Farming-fishing|  257|\n",
            "|     Craft-repair| 1166|\n",
            "| Transport-moving|  454|\n",
            "|  Priv-house-serv|   32|\n",
            "|  Protective-serv|  182|\n",
            "|    Other-service|  745|\n",
            "|     Tech-support|  276|\n",
            "|Machine-op-inspct|  546|\n",
            "|     Armed-Forces|    3|\n",
            "|     Adm-clerical|  993|\n",
            "|       occupation|    1|\n",
            "+-----------------+-----+\n",
            "\n"
          ]
        }
      ]
    },
    {
      "cell_type": "code",
      "source": [
        "df = df.fillna(\" Prof-specialty\", subset = ['occupation'])"
      ],
      "metadata": {
        "id": "6rYmbTZ3rj0J"
      },
      "execution_count": 36,
      "outputs": []
    },
    {
      "cell_type": "code",
      "source": [
        "df.groupby('workclass').count().show()"
      ],
      "metadata": {
        "colab": {
          "base_uri": "https://localhost:8080/"
        },
        "id": "IDNJwap1rpjF",
        "outputId": "df4efbd7-c15c-42e6-af40-d32992a3230a"
      },
      "execution_count": 37,
      "outputs": [
        {
          "output_type": "stream",
          "name": "stdout",
          "text": [
            "+----------------+-----+\n",
            "|       workclass|count|\n",
            "+----------------+-----+\n",
            "|Self-emp-not-inc|  814|\n",
            "|       workclass|    1|\n",
            "|            NULL|  533|\n",
            "|       Local-gov|  656|\n",
            "|       State-gov|  374|\n",
            "|         Private| 6395|\n",
            "|     Without-pay|    3|\n",
            "|     Federal-gov|  295|\n",
            "|    Never-worked|    1|\n",
            "|    Self-emp-inc|  440|\n",
            "+----------------+-----+\n",
            "\n"
          ]
        }
      ]
    },
    {
      "cell_type": "code",
      "source": [
        "df = df.fillna(\" Private\", subset = ['workclass'])"
      ],
      "metadata": {
        "id": "Eycepiqarxq_"
      },
      "execution_count": 40,
      "outputs": []
    },
    {
      "cell_type": "code",
      "source": [
        "df.select([count(when(col(c).isNull(), c )).alias(c) for c in df.columns]).show()"
      ],
      "metadata": {
        "colab": {
          "base_uri": "https://localhost:8080/"
        },
        "id": "saGTt8VAr4mA",
        "outputId": "576ab202-d495-4177-f513-4fcdf4472368"
      },
      "execution_count": 41,
      "outputs": [
        {
          "output_type": "stream",
          "name": "stdout",
          "text": [
            "+---+---------+------+---------+-------+-------+----------+--------+----+------+----+----+---------+-------+------+\n",
            "|age|workclass|fnlwgt|education|numbers|marital|occupation|relation|race|gender|gain|loss|hourlypay|country|income|\n",
            "+---+---------+------+---------+-------+-------+----------+--------+----+------+----+----+---------+-------+------+\n",
            "|  1|        0|     1|        0|      1|      0|         0|       1|   1|     1|   2|   2|        2|      0|     1|\n",
            "+---+---------+------+---------+-------+-------+----------+--------+----+------+----+----+---------+-------+------+\n",
            "\n"
          ]
        }
      ]
    },
    {
      "cell_type": "code",
      "source": [
        "from pyspark.ml.classification import LogisticRegression\n",
        "from pyspark.ml.feature import VectorAssembler , StringIndexer\n",
        "from pyspark.ml import Pipeline"
      ],
      "metadata": {
        "id": "qcOKcIUcsd-1"
      },
      "execution_count": 52,
      "outputs": []
    },
    {
      "cell_type": "code",
      "source": [
        "categorical_cols = [ 'workclass',\n",
        " 'education',\n",
        " 'marital',\n",
        " 'occupation',\n",
        " 'relation',\n",
        " 'race',\n",
        " 'gender',\n",
        " 'country']\n",
        "numeric_cols = [ 'age' ,'fnlwgt' , 'numbers', 'gain', 'loss', 'hourlypay']\n",
        "label = 'income'\n"
      ],
      "metadata": {
        "id": "VoZqQJkqseb9"
      },
      "execution_count": 43,
      "outputs": []
    },
    {
      "cell_type": "code",
      "source": [
        "indexer = [StringIndexer(inputCol = c , outputCol = f\"{c}_index\",handleInvalid='keep')for c in categorical_cols]"
      ],
      "metadata": {
        "id": "I8g1Z-eis9ZX"
      },
      "execution_count": 45,
      "outputs": []
    },
    {
      "cell_type": "code",
      "source": [
        "label_indexer = StringIndexer(inputCol='income', outputCol='label' , handleInvalid='keep')"
      ],
      "metadata": {
        "id": "nDoKgRLouGXw"
      },
      "execution_count": 47,
      "outputs": []
    },
    {
      "cell_type": "code",
      "source": [
        "assembler = VectorAssembler(inputCols = [f'{c}_index' for c in categorical_cols] + numeric_cols, outputCol = 'features',handleInvalid='skip')"
      ],
      "metadata": {
        "id": "NkYfBgrhvNaj"
      },
      "execution_count": 67,
      "outputs": []
    },
    {
      "cell_type": "code",
      "source": [
        "lregression = LogisticRegression(featuresCol = 'features', labelCol = 'label')\n"
      ],
      "metadata": {
        "id": "6ZMt3nEsv5og"
      },
      "execution_count": 68,
      "outputs": []
    },
    {
      "cell_type": "code",
      "source": [
        "pipeline = Pipeline(stages = indexer + [ assembler ,label_indexer ,  lregression])"
      ],
      "metadata": {
        "id": "r1pzS6rYv9nx"
      },
      "execution_count": 69,
      "outputs": []
    },
    {
      "cell_type": "code",
      "source": [
        "train_data, test_data = df.randomSplit([0.8, 0.2], seed=42)\n"
      ],
      "metadata": {
        "id": "z7OOBtGxwN8v"
      },
      "execution_count": 70,
      "outputs": []
    },
    {
      "cell_type": "code",
      "source": [
        "model = pipeline.fit(train_data)"
      ],
      "metadata": {
        "id": "bd0p2PNQwlrN"
      },
      "execution_count": 71,
      "outputs": []
    },
    {
      "cell_type": "code",
      "source": [
        "prediction = model.transform(test_data)"
      ],
      "metadata": {
        "id": "pGOSu52Lw79J"
      },
      "execution_count": 72,
      "outputs": []
    },
    {
      "cell_type": "code",
      "source": [
        "prediction.show(5)"
      ],
      "metadata": {
        "colab": {
          "base_uri": "https://localhost:8080/"
        },
        "id": "WWrbmZAQy_xS",
        "outputId": "b48ee9cc-7a96-48dc-86bb-25750fbe82a1"
      },
      "execution_count": 75,
      "outputs": [
        {
          "output_type": "stream",
          "name": "stdout",
          "text": [
            "+---+---------+------+---------+-------+-------------+---------------+---------+-----+------+----+----+---------+-------------+------+---------------+---------------+-------------+----------------+--------------+----------+------------+-------------+--------------------+-----+--------------------+--------------------+----------+\n",
            "|age|workclass|fnlwgt|education|numbers|      marital|     occupation| relation| race|gender|gain|loss|hourlypay|      country|income|workclass_index|education_index|marital_index|occupation_index|relation_index|race_index|gender_index|country_index|            features|label|       rawPrediction|         probability|prediction|\n",
            "+---+---------+------+---------+-------+-------------+---------------+---------+-----+------+----+----+---------+-------------+------+---------------+---------------+-------------+----------------+--------------+----------+------------+-------------+--------------------+-----+--------------------+--------------------+----------+\n",
            "| 17|  Private|103810|     12th|      8|Never-married| Prof-specialty|Own-child|White|  Male|   0|   0|       40|United-States| <=50K|            3.0|           12.0|          1.0|             6.0|           2.0|       0.0|         0.0|          0.0|[3.0,12.0,1.0,6.0...|  0.0|[9.61302884252288...|[0.97231066764617...|       0.0|\n",
            "| 17|  Private|138507|     10th|      6|Never-married| Prof-specialty|Own-child|White|  Male|   0|   0|       20|United-States| <=50K|            3.0|            8.0|          1.0|             6.0|           2.0|       0.0|         0.0|          0.0|[3.0,8.0,1.0,6.0,...|  0.0|[10.2845652563859...|[0.99136230286064...|       0.0|\n",
            "| 17|  Private|145886|     11th|      7|Never-married| Prof-specialty|Own-child|White|Female|   0|   0|       30|United-States| <=50K|            3.0|            5.0|          1.0|             6.0|           2.0|       0.0|         1.0|          0.0|[3.0,5.0,1.0,6.0,...|  0.0|[10.4515009010762...|[0.98914579181644...|       0.0|\n",
            "| 17|  Private|228373|     10th|      6|Never-married| Prof-specialty|Own-child|White|  Male|   0|   0|       30|United-States| <=50K|            3.0|            8.0|          1.0|             6.0|           2.0|       0.0|         0.0|          0.0|[3.0,8.0,1.0,6.0,...|  0.0|[10.0737237311993...|[0.98768099754906...|       0.0|\n",
            "| 17|Local-gov|170916|     10th|      6|Never-married|Protective-serv|Own-child|White|Female|   0|1602|       40|United-States| <=50K|            2.0|            8.0|          1.0|            12.0|           2.0|       0.0|         1.0|          0.0|[2.0,8.0,1.0,12.0...|  0.0|[10.3791414650696...|[0.97868678918900...|       0.0|\n",
            "+---+---------+------+---------+-------+-------------+---------------+---------+-----+------+----+----+---------+-------------+------+---------------+---------------+-------------+----------------+--------------+----------+------------+-------------+--------------------+-----+--------------------+--------------------+----------+\n",
            "only showing top 5 rows\n",
            "\n"
          ]
        }
      ]
    },
    {
      "cell_type": "code",
      "source": [
        "prediction.select('label' , 'prediction').show()"
      ],
      "metadata": {
        "colab": {
          "base_uri": "https://localhost:8080/"
        },
        "id": "9h0MLpFPyhIm",
        "outputId": "e350ea90-0928-4fbd-8bc8-3ac32cc7fab8"
      },
      "execution_count": 73,
      "outputs": [
        {
          "output_type": "stream",
          "name": "stdout",
          "text": [
            "+-----+----------+\n",
            "|label|prediction|\n",
            "+-----+----------+\n",
            "|  0.0|       0.0|\n",
            "|  0.0|       0.0|\n",
            "|  0.0|       0.0|\n",
            "|  0.0|       0.0|\n",
            "|  0.0|       0.0|\n",
            "|  0.0|       0.0|\n",
            "|  0.0|       0.0|\n",
            "|  0.0|       0.0|\n",
            "|  0.0|       0.0|\n",
            "|  0.0|       0.0|\n",
            "|  0.0|       0.0|\n",
            "|  0.0|       0.0|\n",
            "|  0.0|       0.0|\n",
            "|  0.0|       0.0|\n",
            "|  0.0|       0.0|\n",
            "|  0.0|       0.0|\n",
            "|  0.0|       0.0|\n",
            "|  0.0|       0.0|\n",
            "|  0.0|       0.0|\n",
            "|  0.0|       0.0|\n",
            "+-----+----------+\n",
            "only showing top 20 rows\n",
            "\n"
          ]
        }
      ]
    },
    {
      "cell_type": "code",
      "source": [
        "prediction.groupby('label', 'prediction').count().show()"
      ],
      "metadata": {
        "colab": {
          "base_uri": "https://localhost:8080/"
        },
        "id": "Jt59OoYrytwA",
        "outputId": "3c2e7924-e8d7-4b33-a961-935b49b07d93"
      },
      "execution_count": 74,
      "outputs": [
        {
          "output_type": "stream",
          "name": "stdout",
          "text": [
            "+-----+----------+-----+\n",
            "|label|prediction|count|\n",
            "+-----+----------+-----+\n",
            "|  1.0|       1.0|  490|\n",
            "|  0.0|       1.0|  123|\n",
            "|  1.0|       0.0|  192|\n",
            "|  0.0|       0.0| 1031|\n",
            "+-----+----------+-----+\n",
            "\n"
          ]
        }
      ]
    },
    {
      "cell_type": "code",
      "source": [
        "prediction.select('label' , 'prediction').distinct().show()"
      ],
      "metadata": {
        "colab": {
          "base_uri": "https://localhost:8080/"
        },
        "id": "eDc3ZViezfmq",
        "outputId": "8a3d4bc1-fb97-4581-c553-01efb768b8f0"
      },
      "execution_count": 77,
      "outputs": [
        {
          "output_type": "stream",
          "name": "stdout",
          "text": [
            "+-----+----------+\n",
            "|label|prediction|\n",
            "+-----+----------+\n",
            "|  1.0|       1.0|\n",
            "|  0.0|       1.0|\n",
            "|  1.0|       0.0|\n",
            "|  0.0|       0.0|\n",
            "+-----+----------+\n",
            "\n"
          ]
        }
      ]
    },
    {
      "cell_type": "code",
      "source": [
        "from pyspark.ml.evaluation import MulticlassClassificationEvaluator"
      ],
      "metadata": {
        "id": "l-4vAqeRzONB"
      },
      "execution_count": 78,
      "outputs": []
    },
    {
      "cell_type": "code",
      "source": [
        "evaluator = MulticlassClassificationEvaluator(labelCol='label', predictionCol='prediction', metricName='accuracy')"
      ],
      "metadata": {
        "id": "YYYhLmNTzOup"
      },
      "execution_count": 79,
      "outputs": []
    },
    {
      "cell_type": "code",
      "source": [
        "evaluator.evaluate(prediction)"
      ],
      "metadata": {
        "colab": {
          "base_uri": "https://localhost:8080/"
        },
        "id": "z_F9PXv2z1Jf",
        "outputId": "81868183-1f56-488f-c6c0-d813c9225072"
      },
      "execution_count": 80,
      "outputs": [
        {
          "output_type": "execute_result",
          "data": {
            "text/plain": [
              "0.8284313725490197"
            ]
          },
          "metadata": {},
          "execution_count": 80
        }
      ]
    },
    {
      "cell_type": "code",
      "source": [],
      "metadata": {
        "id": "0EQ_bdzBz2lv"
      },
      "execution_count": null,
      "outputs": []
    }
  ]
}