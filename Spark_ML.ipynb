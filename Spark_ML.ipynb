{
  "nbformat": 4,
  "nbformat_minor": 0,
  "metadata": {
    "colab": {
      "provenance": [],
      "authorship_tag": "ABX9TyPR0XD6jokaOAX1ZCD5zElp",
      "include_colab_link": true
    },
    "kernelspec": {
      "name": "python3",
      "display_name": "Python 3"
    },
    "language_info": {
      "name": "python"
    }
  },
  "cells": [
    {
      "cell_type": "markdown",
      "metadata": {
        "id": "view-in-github",
        "colab_type": "text"
      },
      "source": [
        "<a href=\"https://colab.research.google.com/github/pratik9153/Spark-ML/blob/main/Spark_ML.ipynb\" target=\"_parent\"><img src=\"https://colab.research.google.com/assets/colab-badge.svg\" alt=\"Open In Colab\"/></a>"
      ]
    },
    {
      "cell_type": "code",
      "execution_count": null,
      "metadata": {
        "colab": {
          "base_uri": "https://localhost:8080/"
        },
        "id": "mBrXJTC5PPRL",
        "outputId": "ee08f2c8-2b9d-4549-8912-d2c699ecc4fa"
      },
      "outputs": [
        {
          "output_type": "stream",
          "name": "stdout",
          "text": [
            "Collecting pyspark\n",
            "  Downloading pyspark-3.5.1.tar.gz (317.0 MB)\n",
            "\u001b[2K     \u001b[90m━━━━━━━━━━━━━━━━━━━━━━━━━━━━━━━━━━━━━━━━\u001b[0m \u001b[32m317.0/317.0 MB\u001b[0m \u001b[31m2.3 MB/s\u001b[0m eta \u001b[36m0:00:00\u001b[0m\n",
            "\u001b[?25h  Preparing metadata (setup.py) ... \u001b[?25l\u001b[?25hdone\n",
            "Requirement already satisfied: py4j==0.10.9.7 in /usr/local/lib/python3.10/dist-packages (from pyspark) (0.10.9.7)\n",
            "Building wheels for collected packages: pyspark\n",
            "  Building wheel for pyspark (setup.py) ... \u001b[?25l\u001b[?25hdone\n",
            "  Created wheel for pyspark: filename=pyspark-3.5.1-py2.py3-none-any.whl size=317488491 sha256=14edec0efb2aff8324175f2af497166298e1ef415049444afe2e608619aa8d6d\n",
            "  Stored in directory: /root/.cache/pip/wheels/80/1d/60/2c256ed38dddce2fdd93be545214a63e02fbd8d74fb0b7f3a6\n",
            "Successfully built pyspark\n",
            "Installing collected packages: pyspark\n",
            "Successfully installed pyspark-3.5.1\n"
          ]
        }
      ],
      "source": [
        "!pip install pyspark"
      ]
    },
    {
      "cell_type": "markdown",
      "source": [
        "## Linear Regression"
      ],
      "metadata": {
        "id": "MKwtPCO6r-w9"
      }
    },
    {
      "cell_type": "code",
      "source": [
        "import pyspark\n",
        "from pyspark.sql import SparkSession"
      ],
      "metadata": {
        "id": "vfSBURQoPWbj"
      },
      "execution_count": 57,
      "outputs": []
    },
    {
      "cell_type": "code",
      "source": [
        "spark = SparkSession.builder.appName(\"Crew_Requirements\").getOrCreate()"
      ],
      "metadata": {
        "id": "kx28fanTQH2n"
      },
      "execution_count": 58,
      "outputs": []
    },
    {
      "cell_type": "code",
      "source": [
        "df = spark.read.csv(\"cruise_ship_info.csv\",inferSchema=True,header=True)"
      ],
      "metadata": {
        "id": "vo-z9-2hQSxZ"
      },
      "execution_count": 59,
      "outputs": []
    },
    {
      "cell_type": "code",
      "source": [
        "df.show()"
      ],
      "metadata": {
        "colab": {
          "base_uri": "https://localhost:8080/"
        },
        "id": "5Uuf2-6yQzXL",
        "outputId": "5999f843-4590-484b-8793-d70d0fb56544"
      },
      "execution_count": null,
      "outputs": [
        {
          "output_type": "stream",
          "name": "stdout",
          "text": [
            "+-----------+-----------+---+------------------+----------+------+------+-----------------+----+\n",
            "|  Ship_name|Cruise_line|Age|           Tonnage|passengers|length|cabins|passenger_density|crew|\n",
            "+-----------+-----------+---+------------------+----------+------+------+-----------------+----+\n",
            "|    Journey|    Azamara|  6|30.276999999999997|      6.94|  5.94|  3.55|            42.64|3.55|\n",
            "|      Quest|    Azamara|  6|30.276999999999997|      6.94|  5.94|  3.55|            42.64|3.55|\n",
            "|Celebration|   Carnival| 26|            47.262|     14.86|  7.22|  7.43|             31.8| 6.7|\n",
            "|   Conquest|   Carnival| 11|             110.0|     29.74|  9.53| 14.88|            36.99|19.1|\n",
            "|    Destiny|   Carnival| 17|           101.353|     26.42|  8.92| 13.21|            38.36|10.0|\n",
            "|    Ecstasy|   Carnival| 22|            70.367|     20.52|  8.55|  10.2|            34.29| 9.2|\n",
            "|    Elation|   Carnival| 15|            70.367|     20.52|  8.55|  10.2|            34.29| 9.2|\n",
            "|    Fantasy|   Carnival| 23|            70.367|     20.56|  8.55| 10.22|            34.23| 9.2|\n",
            "|Fascination|   Carnival| 19|            70.367|     20.52|  8.55|  10.2|            34.29| 9.2|\n",
            "|    Freedom|   Carnival|  6|110.23899999999999|      37.0|  9.51| 14.87|            29.79|11.5|\n",
            "|      Glory|   Carnival| 10|             110.0|     29.74|  9.51| 14.87|            36.99|11.6|\n",
            "|    Holiday|   Carnival| 28|            46.052|     14.52|  7.27|  7.26|            31.72| 6.6|\n",
            "|Imagination|   Carnival| 18|            70.367|     20.52|  8.55|  10.2|            34.29| 9.2|\n",
            "|Inspiration|   Carnival| 17|            70.367|     20.52|  8.55|  10.2|            34.29| 9.2|\n",
            "|     Legend|   Carnival| 11|              86.0|     21.24|  9.63| 10.62|            40.49| 9.3|\n",
            "|   Liberty*|   Carnival|  8|             110.0|     29.74|  9.51| 14.87|            36.99|11.6|\n",
            "|    Miracle|   Carnival|  9|              88.5|     21.24|  9.63| 10.62|            41.67|10.3|\n",
            "|   Paradise|   Carnival| 15|            70.367|     20.52|  8.55|  10.2|            34.29| 9.2|\n",
            "|      Pride|   Carnival| 12|              88.5|     21.24|  9.63| 11.62|            41.67| 9.3|\n",
            "|  Sensation|   Carnival| 20|            70.367|     20.52|  8.55|  10.2|            34.29| 9.2|\n",
            "+-----------+-----------+---+------------------+----------+------+------+-----------------+----+\n",
            "only showing top 20 rows\n",
            "\n"
          ]
        }
      ]
    },
    {
      "cell_type": "code",
      "source": [
        "df.printSchema()"
      ],
      "metadata": {
        "colab": {
          "base_uri": "https://localhost:8080/"
        },
        "id": "XICbNl29Q3Un",
        "outputId": "d0a195c6-5bd1-4e5e-ab92-47202172978e"
      },
      "execution_count": null,
      "outputs": [
        {
          "output_type": "stream",
          "name": "stdout",
          "text": [
            "root\n",
            " |-- Ship_name: string (nullable = true)\n",
            " |-- Cruise_line: string (nullable = true)\n",
            " |-- Age: integer (nullable = true)\n",
            " |-- Tonnage: double (nullable = true)\n",
            " |-- passengers: double (nullable = true)\n",
            " |-- length: double (nullable = true)\n",
            " |-- cabins: double (nullable = true)\n",
            " |-- passenger_density: double (nullable = true)\n",
            " |-- crew: double (nullable = true)\n",
            "\n"
          ]
        }
      ]
    },
    {
      "cell_type": "code",
      "source": [
        "from pyspark.ml.feature import StringIndexer\n",
        "indexer = StringIndexer(inputCol=\"Cruise_line\",outputCol=\"cruise_cat\")\n",
        "indexed = indexer.fit(df).transform(df)\n",
        "indexed.show(5)"
      ],
      "metadata": {
        "colab": {
          "base_uri": "https://localhost:8080/"
        },
        "id": "VO7d3UMpdkkV",
        "outputId": "862f40bf-c57a-42f8-f2e6-e7f66f64f748"
      },
      "execution_count": null,
      "outputs": [
        {
          "output_type": "stream",
          "name": "stdout",
          "text": [
            "+-----------+-----------+---+------------------+----------+------+------+-----------------+----+----------+\n",
            "|  Ship_name|Cruise_line|Age|           Tonnage|passengers|length|cabins|passenger_density|crew|cruise_cat|\n",
            "+-----------+-----------+---+------------------+----------+------+------+-----------------+----+----------+\n",
            "|    Journey|    Azamara|  6|30.276999999999997|      6.94|  5.94|  3.55|            42.64|3.55|      16.0|\n",
            "|      Quest|    Azamara|  6|30.276999999999997|      6.94|  5.94|  3.55|            42.64|3.55|      16.0|\n",
            "|Celebration|   Carnival| 26|            47.262|     14.86|  7.22|  7.43|             31.8| 6.7|       1.0|\n",
            "|   Conquest|   Carnival| 11|             110.0|     29.74|  9.53| 14.88|            36.99|19.1|       1.0|\n",
            "|    Destiny|   Carnival| 17|           101.353|     26.42|  8.92| 13.21|            38.36|10.0|       1.0|\n",
            "+-----------+-----------+---+------------------+----------+------+------+-----------------+----+----------+\n",
            "only showing top 5 rows\n",
            "\n"
          ]
        }
      ]
    },
    {
      "cell_type": "code",
      "source": [
        "indexed.columns"
      ],
      "metadata": {
        "colab": {
          "base_uri": "https://localhost:8080/"
        },
        "id": "v3eRPhullWHA",
        "outputId": "ad2f02c4-7102-46db-e706-9d1874794827"
      },
      "execution_count": null,
      "outputs": [
        {
          "output_type": "execute_result",
          "data": {
            "text/plain": [
              "['Ship_name',\n",
              " 'Cruise_line',\n",
              " 'Age',\n",
              " 'Tonnage',\n",
              " 'passengers',\n",
              " 'length',\n",
              " 'cabins',\n",
              " 'passenger_density',\n",
              " 'crew',\n",
              " 'cruise_cat']"
            ]
          },
          "metadata": {},
          "execution_count": 32
        }
      ]
    },
    {
      "cell_type": "code",
      "source": [
        "indexed.select('Cruise_line','cruise_cat').distinct().show()"
      ],
      "metadata": {
        "colab": {
          "base_uri": "https://localhost:8080/"
        },
        "id": "rCPFiAoqkDIt",
        "outputId": "d1e67f56-bc31-4a77-e56d-08a1b7cbafb3"
      },
      "execution_count": null,
      "outputs": [
        {
          "output_type": "stream",
          "name": "stdout",
          "text": [
            "+-----------------+----------+\n",
            "|      Cruise_line|cruise_cat|\n",
            "+-----------------+----------+\n",
            "|            Costa|       5.0|\n",
            "|        Norwegian|       4.0|\n",
            "|              MSC|       7.0|\n",
            "|           Orient|      19.0|\n",
            "|Regent_Seven_Seas|      10.0|\n",
            "|           Disney|      18.0|\n",
            "|         Windstar|      15.0|\n",
            "|              P&O|       8.0|\n",
            "|  Royal_Caribbean|       0.0|\n",
            "|         Seabourn|      14.0|\n",
            "|             Star|       9.0|\n",
            "|         Princess|       2.0|\n",
            "|          Oceania|      13.0|\n",
            "|          Azamara|      16.0|\n",
            "| Holland_American|       3.0|\n",
            "|           Cunard|      12.0|\n",
            "|        Celebrity|       6.0|\n",
            "|        Silversea|      11.0|\n",
            "|          Crystal|      17.0|\n",
            "|         Carnival|       1.0|\n",
            "+-----------------+----------+\n",
            "\n"
          ]
        }
      ]
    },
    {
      "cell_type": "code",
      "source": [
        "indexed.groupby('Cruise_line').count().show()"
      ],
      "metadata": {
        "colab": {
          "base_uri": "https://localhost:8080/"
        },
        "id": "_4GRXBjqkDuF",
        "outputId": "469f338f-33be-4cd7-ba5b-93364914b268"
      },
      "execution_count": null,
      "outputs": [
        {
          "output_type": "stream",
          "name": "stdout",
          "text": [
            "+-----------------+-----+\n",
            "|      Cruise_line|count|\n",
            "+-----------------+-----+\n",
            "|            Costa|   11|\n",
            "|              P&O|    6|\n",
            "|           Cunard|    3|\n",
            "|Regent_Seven_Seas|    5|\n",
            "|              MSC|    8|\n",
            "|         Carnival|   22|\n",
            "|          Crystal|    2|\n",
            "|           Orient|    1|\n",
            "|         Princess|   17|\n",
            "|        Silversea|    4|\n",
            "|         Seabourn|    3|\n",
            "| Holland_American|   14|\n",
            "|         Windstar|    3|\n",
            "|           Disney|    2|\n",
            "|        Norwegian|   13|\n",
            "|          Oceania|    3|\n",
            "|          Azamara|    2|\n",
            "|        Celebrity|   10|\n",
            "|             Star|    6|\n",
            "|  Royal_Caribbean|   23|\n",
            "+-----------------+-----+\n",
            "\n"
          ]
        }
      ]
    },
    {
      "cell_type": "code",
      "source": [
        "from pyspark.ml.feature import VectorAssembler\n",
        "assembler = VectorAssembler(inputCols=[\n",
        "    'Age',\n",
        "    'Tonnage',\n",
        "    'passengers',\n",
        "    'length',\n",
        "    'cabins',\n",
        "    'cruise_cat'\n",
        "],outputCol ='features' )\n",
        "output = assembler.transform(indexed)"
      ],
      "metadata": {
        "id": "dAQUeVCclMey"
      },
      "execution_count": null,
      "outputs": []
    },
    {
      "cell_type": "code",
      "source": [
        "output.show()"
      ],
      "metadata": {
        "colab": {
          "base_uri": "https://localhost:8080/"
        },
        "id": "8Qpy5QFgm8aK",
        "outputId": "47ea4121-887d-4ffd-aef3-032d8e1ec510"
      },
      "execution_count": null,
      "outputs": [
        {
          "output_type": "stream",
          "name": "stdout",
          "text": [
            "+-----------+-----------+---+------------------+----------+------+------+-----------------+----+----------+--------------------+\n",
            "|  Ship_name|Cruise_line|Age|           Tonnage|passengers|length|cabins|passenger_density|crew|cruise_cat|            features|\n",
            "+-----------+-----------+---+------------------+----------+------+------+-----------------+----+----------+--------------------+\n",
            "|    Journey|    Azamara|  6|30.276999999999997|      6.94|  5.94|  3.55|            42.64|3.55|      16.0|[6.0,30.276999999...|\n",
            "|      Quest|    Azamara|  6|30.276999999999997|      6.94|  5.94|  3.55|            42.64|3.55|      16.0|[6.0,30.276999999...|\n",
            "|Celebration|   Carnival| 26|            47.262|     14.86|  7.22|  7.43|             31.8| 6.7|       1.0|[26.0,47.262,14.8...|\n",
            "|   Conquest|   Carnival| 11|             110.0|     29.74|  9.53| 14.88|            36.99|19.1|       1.0|[11.0,110.0,29.74...|\n",
            "|    Destiny|   Carnival| 17|           101.353|     26.42|  8.92| 13.21|            38.36|10.0|       1.0|[17.0,101.353,26....|\n",
            "|    Ecstasy|   Carnival| 22|            70.367|     20.52|  8.55|  10.2|            34.29| 9.2|       1.0|[22.0,70.367,20.5...|\n",
            "|    Elation|   Carnival| 15|            70.367|     20.52|  8.55|  10.2|            34.29| 9.2|       1.0|[15.0,70.367,20.5...|\n",
            "|    Fantasy|   Carnival| 23|            70.367|     20.56|  8.55| 10.22|            34.23| 9.2|       1.0|[23.0,70.367,20.5...|\n",
            "|Fascination|   Carnival| 19|            70.367|     20.52|  8.55|  10.2|            34.29| 9.2|       1.0|[19.0,70.367,20.5...|\n",
            "|    Freedom|   Carnival|  6|110.23899999999999|      37.0|  9.51| 14.87|            29.79|11.5|       1.0|[6.0,110.23899999...|\n",
            "|      Glory|   Carnival| 10|             110.0|     29.74|  9.51| 14.87|            36.99|11.6|       1.0|[10.0,110.0,29.74...|\n",
            "|    Holiday|   Carnival| 28|            46.052|     14.52|  7.27|  7.26|            31.72| 6.6|       1.0|[28.0,46.052,14.5...|\n",
            "|Imagination|   Carnival| 18|            70.367|     20.52|  8.55|  10.2|            34.29| 9.2|       1.0|[18.0,70.367,20.5...|\n",
            "|Inspiration|   Carnival| 17|            70.367|     20.52|  8.55|  10.2|            34.29| 9.2|       1.0|[17.0,70.367,20.5...|\n",
            "|     Legend|   Carnival| 11|              86.0|     21.24|  9.63| 10.62|            40.49| 9.3|       1.0|[11.0,86.0,21.24,...|\n",
            "|   Liberty*|   Carnival|  8|             110.0|     29.74|  9.51| 14.87|            36.99|11.6|       1.0|[8.0,110.0,29.74,...|\n",
            "|    Miracle|   Carnival|  9|              88.5|     21.24|  9.63| 10.62|            41.67|10.3|       1.0|[9.0,88.5,21.24,9...|\n",
            "|   Paradise|   Carnival| 15|            70.367|     20.52|  8.55|  10.2|            34.29| 9.2|       1.0|[15.0,70.367,20.5...|\n",
            "|      Pride|   Carnival| 12|              88.5|     21.24|  9.63| 11.62|            41.67| 9.3|       1.0|[12.0,88.5,21.24,...|\n",
            "|  Sensation|   Carnival| 20|            70.367|     20.52|  8.55|  10.2|            34.29| 9.2|       1.0|[20.0,70.367,20.5...|\n",
            "+-----------+-----------+---+------------------+----------+------+------+-----------------+----+----------+--------------------+\n",
            "only showing top 20 rows\n",
            "\n"
          ]
        }
      ]
    },
    {
      "cell_type": "code",
      "source": [
        "train_data , test_data = output.randomSplit([.8,.2])\n"
      ],
      "metadata": {
        "id": "BRz3LMT1nmvs"
      },
      "execution_count": null,
      "outputs": []
    },
    {
      "cell_type": "code",
      "source": [
        "train_data.describe().show()"
      ],
      "metadata": {
        "colab": {
          "base_uri": "https://localhost:8080/"
        },
        "id": "W11y7BogoJP-",
        "outputId": "a23da7e5-c262-409f-8d7a-337893dc4ec8"
      },
      "execution_count": null,
      "outputs": [
        {
          "output_type": "stream",
          "name": "stdout",
          "text": [
            "+-------+---------+-----------+------------------+-----------------+------------------+-----------------+-----------------+------------------+------------------+------------------+\n",
            "|summary|Ship_name|Cruise_line|               Age|          Tonnage|        passengers|           length|           cabins| passenger_density|              crew|        cruise_cat|\n",
            "+-------+---------+-----------+------------------+-----------------+------------------+-----------------+-----------------+------------------+------------------+------------------+\n",
            "|  count|      131|        131|               131|              131|               131|              131|              131|               131|               131|               131|\n",
            "|   mean| Infinity|       NULL|15.618320610687023|71.50374045801527|18.590458015267178|8.119160305343508|8.867099236641224|39.970916030534354| 7.823587786259548|4.8396946564885495|\n",
            "| stddev|     NULL|       NULL|  7.81857552958355|36.93028327779621| 9.783977078924298|1.786169962697554|4.553577374489309| 8.820200368418437|3.5630067399280563| 4.580589135594359|\n",
            "|    min|Adventure|    Azamara|                 4|            2.329|              0.66|             2.79|             0.33|              17.7|              0.59|               0.0|\n",
            "|    max|Zuiderdam|   Windstar|                48|            220.0|              54.0|            11.82|             27.0|             71.43|              21.0|              19.0|\n",
            "+-------+---------+-----------+------------------+-----------------+------------------+-----------------+-----------------+------------------+------------------+------------------+\n",
            "\n"
          ]
        }
      ]
    },
    {
      "cell_type": "code",
      "source": [
        "from pyspark.ml.regression import LinearRegression\n",
        "regressor = LinearRegression(featuresCol='features',labelCol='crew')"
      ],
      "metadata": {
        "id": "afcOQXQjoct7"
      },
      "execution_count": null,
      "outputs": []
    },
    {
      "cell_type": "code",
      "source": [
        "model = regressor.fit(train_data)"
      ],
      "metadata": {
        "id": "srV_T5Eio6Eo"
      },
      "execution_count": null,
      "outputs": []
    },
    {
      "cell_type": "code",
      "source": [
        "result_train = model.evaluate(train_data)"
      ],
      "metadata": {
        "id": "7qeVjd-PpBTf"
      },
      "execution_count": null,
      "outputs": []
    },
    {
      "cell_type": "code",
      "source": [
        "result_train.r2"
      ],
      "metadata": {
        "colab": {
          "base_uri": "https://localhost:8080/"
        },
        "id": "3mXyfALrpQPU",
        "outputId": "a94396e3-fc21-4ce0-8922-e78ef9eeae0f"
      },
      "execution_count": null,
      "outputs": [
        {
          "output_type": "execute_result",
          "data": {
            "text/plain": [
              "0.9260600749335359"
            ]
          },
          "metadata": {},
          "execution_count": 53
        }
      ]
    },
    {
      "cell_type": "code",
      "source": [
        "y_pred = model.transform(test_data)"
      ],
      "metadata": {
        "id": "odqLVA2epSGK"
      },
      "execution_count": null,
      "outputs": []
    },
    {
      "cell_type": "code",
      "source": [
        "result_test  = model.evaluate(test_data)"
      ],
      "metadata": {
        "id": "86pcvRm3pYSd"
      },
      "execution_count": null,
      "outputs": []
    },
    {
      "cell_type": "code",
      "source": [
        "result_test.r2"
      ],
      "metadata": {
        "colab": {
          "base_uri": "https://localhost:8080/"
        },
        "id": "KxO64gAYpmIW",
        "outputId": "7c8c6ea0-6f29-4624-e1f5-6a92e065998e"
      },
      "execution_count": null,
      "outputs": [
        {
          "output_type": "execute_result",
          "data": {
            "text/plain": [
              "0.930369970631574"
            ]
          },
          "metadata": {},
          "execution_count": 55
        }
      ]
    },
    {
      "cell_type": "code",
      "source": [
        "y_pred.show()"
      ],
      "metadata": {
        "colab": {
          "base_uri": "https://localhost:8080/"
        },
        "id": "h1F0092lpomB",
        "outputId": "1508642f-6c30-45c4-9ddf-ef5ea2f73ea7"
      },
      "execution_count": null,
      "outputs": [
        {
          "output_type": "stream",
          "name": "stdout",
          "text": [
            "+------------+----------------+---+------------------+----------+------+------+-----------------+-----+----------+--------------------+------------------+\n",
            "|   Ship_name|     Cruise_line|Age|           Tonnage|passengers|length|cabins|passenger_density| crew|cruise_cat|            features|        prediction|\n",
            "+------------+----------------+---+------------------+----------+------+------+-----------------+-----+----------+--------------------+------------------+\n",
            "|      Aurora|             P&O| 13|              76.0|     18.74|  8.86|  9.39|            40.55|  8.5|       8.0|[13.0,76.0,18.74,...| 8.830281083046334|\n",
            "|     Diamond|        Princess|  9|             113.0|     26.74|  9.51| 13.37|            42.26|12.38|       2.0|[9.0,113.0,26.74,...|11.294945256501736|\n",
            "|     Eurodam|Holland_American|  5|              86.0|     21.04|  9.36| 10.22|            40.87|  8.0|       3.0|[5.0,86.0,21.04,9...| 9.352139562747968|\n",
            "|    Explorer| Royal_Caribbean| 13|             138.0|     31.14|  10.2| 15.57|            44.32|11.76|       0.0|[13.0,138.0,31.14...| 12.79932642513151|\n",
            "|     Freedom| Royal_Caribbean|  7|             158.0|      43.7| 11.12|  18.0|            36.16| 13.6|       0.0|[7.0,158.0,43.7,1...|13.776700939772677|\n",
            "|      Gemini|            Star| 21|            19.093|       8.0|  5.37|   4.0|            23.87|  4.7|       9.0|[21.0,19.093,8.0,...| 3.779742343706439|\n",
            "|    Grandeur| Royal_Caribbean| 17|            74.137|      19.5|  9.16|  9.75|            38.02|  7.6|       0.0|[17.0,74.137,19.5...|  8.70170522957059|\n",
            "|     Holiday|        Carnival| 28|            46.052|     14.52|  7.27|  7.26|            31.72|  6.6|       1.0|[28.0,46.052,14.5...| 6.149425207812677|\n",
            "| Imagination|        Carnival| 18|            70.367|     20.52|  8.55|  10.2|            34.29|  9.2|       1.0|[18.0,70.367,20.5...| 8.690607510455768|\n",
            "| Inspiration|        Carnival| 17|            70.367|     20.52|  8.55|  10.2|            34.29|  9.2|       1.0|[17.0,70.367,20.5...| 8.706027028133715|\n",
            "|       Jewel|       Norwegian|  8|              91.0|     22.44|  9.65| 11.22|            40.55| 11.0|       4.0|[8.0,91.0,22.44,9...|10.183105843166523|\n",
            "|      Legend| Royal_Caribbean| 18|              70.0|      18.0|  8.67|   9.0|            38.89|  7.2|       0.0|[18.0,70.0,18.0,8...| 7.994572156275045|\n",
            "|      Lirica|             MSC| 10|            58.825|      15.6|  8.23|  7.65|            37.71|  7.0|       7.0|[10.0,58.825,15.6...| 7.416400348336205|\n",
            "|     Majesty| Royal_Caribbean| 21|            73.941|     27.44|   8.8| 11.75|            26.95| 8.22|       0.0|[21.0,73.941,27.4...|  9.13097822812016|\n",
            "|Mediterranea|           Costa| 10|              86.0|     21.14|   9.6| 10.56|            40.68|  9.2|       5.0|[10.0,86.0,21.14,...| 9.779586965754714|\n",
            "|   Millenium|       Celebrity| 13|              91.0|     20.32|  9.65|  9.75|            44.78| 9.99|       6.0|[13.0,91.0,20.32,...| 9.222186945844506|\n",
            "|     Nautica|         Oceania| 13|30.276999999999997|      6.84|  5.94|  3.42|            44.26|  4.0|      13.0|[13.0,30.27699999...| 4.054603810397289|\n",
            "|      Pisces|            Star| 24|40.053000000000004|     12.87|  5.79|  7.76|            31.12|  7.5|       9.0|[24.0,40.05300000...|6.5590392144150265|\n",
            "|       Pride|        Seabourn| 27|              10.0|      2.08|   4.4|  1.04|            48.08|  1.6|      14.0|[27.0,10.0,2.08,4...|1.6988555825582734|\n",
            "|  QueenMary2|          Cunard| 10|             151.4|      26.2| 11.32| 11.34|            57.79|12.53|      12.0|[10.0,151.4,26.2,...|11.034745993854106|\n",
            "+------------+----------------+---+------------------+----------+------+------+-----------------+-----+----------+--------------------+------------------+\n",
            "only showing top 20 rows\n",
            "\n"
          ]
        }
      ]
    },
    {
      "cell_type": "code",
      "source": [],
      "metadata": {
        "id": "MSoU1wRTpsj7"
      },
      "execution_count": null,
      "outputs": []
    }
  ]
}